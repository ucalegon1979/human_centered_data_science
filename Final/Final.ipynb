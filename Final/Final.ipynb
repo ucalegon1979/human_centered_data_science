{
 "cells": [
  {
   "cell_type": "markdown",
   "metadata": {},
   "source": [
    "# Mass Shootings In The United States:\n",
    "### *Bias In Reporting Or Actual Issue?*\n",
    "\n",
    "\n",
    "\n",
    "*December 9th, 2017*\n",
    "\n",
    "*Andrew Smith (ucalegon@uw.edu)*\n",
    "\n",
    "## Introduction: \n",
    "\n",
    "Mass shootings in the United States since 1999 have become alarmingly frequent, and they are happenning at an increasing rate [1]. Others would dismiss this problem for reasons as simple as where they get their news, or if they happen to own guns. In every case when there is a mass shooting, there are impassioned calls to ban guns in the United States, with gun-control advocates enthusiastically sharing comparisons of the U.S. to other countries where mass shootings do not happen. Frustratingly, there are many people who do not consider mass shootings a problem. They oftentimes belittle the lack of knowledge about guns by gun-control advocates, making fun of them, minimizing or ignoring the purpose of guns, deflecting, saying an \"evil\" person will always find a way to kill [2]. These gun defenders ignore or avoid simple questions such as:\n",
    "\n",
    "1) How easy is it to kill many people quickly with readily-available weapons other than guns?\n",
    "\n",
    "2) How likely a person would commit murder if they did not have a gun?\n",
    "\n",
    "3) How easy it is to obtain a gun in the United States, compared to other things which are far less deadly, like a passport.\n",
    "\n",
    "There is a deep divide in the United States about if the existence of so many guns has anything to do with the frequency of mass shootings. Some say when we focus on mass shootings, we forget about all the ordinary murders that happen with guns, the accidents, and suicides, and that we are missing the point, being of too narrow a focus, not addressing the larger issue of violence in general."
   ]
  },
  {
   "cell_type": "markdown",
   "metadata": {},
   "source": [
    "## Purpose and Background \n",
    "\n",
    "My experience visiting Las Vegas one week after the worst mass shooting in U.S. history where 58 people were killed and almost 600 wounded chilled my heart. Had the massacre occurred just a week later in the exact same place, I would likely have been one of the victims. Witnessing first hand the concert grounds upon which so many people had died or had been wounded, their belongings still strewn about the field, motivated me to write about and research this topic.\n",
    "\n",
    "Additionally I decided to focus narrowly on the topic of mass shootings and not gun violence in general solely because I felt terrorized by the shooting, and because I did feel a license to study the issue.\n",
    "\n",
    "Conservative lawmakers in this country would challenge the notion that mass shootings are increasing in number. Also, they would challenge even more vociferously, whether mass shootings are, as many liberal politicians profess, white male problem? Conservative lawmakers deflect, pointing to the Washington DC snipers who were both African American, the Virginia Tech shooter who was South Korean.\n",
    "\n",
    "The deflection continues, with some lawmakers saying trucks are used to kill, so, as the logic goes, should we ban trucks? Others say that people will still find guns illegally, and that any attempt to control guns will only hurt law-abiding gun owners. It has been shown that mass killings in the United States are most often carried out with guns, usually handguns, most of them obtained legally [3].\n",
    "\n",
    "The intransigence against even attempting to research if there is a problem with gun violence reached a nadir in 1997. Congress cut funding for the CDC by the exact amount that had been spent on gun research in the year before, citing the CDC should be prevented from doing any research that \"advocate or promote gun control\". [4] This put a chilling affect on gun violence research for over a decade. The fact that there is not a single place where you can go to find complete data on gun violence has something to do with how taboo it is seen by many public officials in the U.S.\n",
    "\n",
    "Because of the dearth of publicly available data sources on shootings, the intransigence against collecting, disseminating data at the federal level about gun violence, it presents very real problems in reaching any unassailable conclusions about mass shootings, or gun violence in general. Therefore with the available data from Mother Jones, I believe I may be able to answer the following questions.\n",
    "\n",
    "### Hypotheses\n",
    "\n",
    "H1: Are mass shootings, as defined by Mother Jones, increasing?\n",
    "\n",
    "H2: Are mass shootings becoming deadlier?"
   ]
  },
  {
   "cell_type": "markdown",
   "metadata": {},
   "source": [
    "## License\n",
    "\n",
    "The Mother Jones data used in this study in under copyright according to the Mother Jones Terms of Use. \n",
    "\n",
    "http://www.motherjones.com/about/terms/ \n",
    "\n",
    "Section 5 of the Mother Jones Terms of Use states:\n",
    "\n",
    "> \"You will not reproduce, duplicate, copy, sell, trade, resell, or exploit, for any commercial purpose, any content, component, or feature of the Site without the prior written permission of the Foundation, except for content you have submitted to or posted on the Site, or content which you have the prior written permission of the owner to use;\"\n",
    "\n",
    "Also Section 7 of the Terms states:\n",
    "\n",
    "> \"Except for User Content, all content and components of the Site (“Mother Jones Content”), including without limitation, the software, text, photos, video and audio content, graphics, and features, and all trademarks, service marks, and logos contained therein, are owned by or licensed to the Foundation, subject to any copyrights or other intellectual property rights held by others pursuant to law. The Foundation reserves all rights to the Mother Jones Content and any other component or content of the Site not expressly granted to you by these TOS.\"\n",
    "\n",
    "I am conducting and presenting this research under the basis of Fair Use. I will be using the data on mass shootings only for research purposes, with no commercial purpose, and limited use for a class project.\n",
    "\n",
    "For more information on Fair Use, visit the link below:\n",
    "\n",
    "https://www.copyright.gov/fair-use/more-info.html"
   ]
  },
  {
   "cell_type": "markdown",
   "metadata": {},
   "source": [
    "## Data\n",
    "\n",
    "Mother Jones (MJ) presents the context and their own analysis of their data at the location below.\n",
    "\n",
    "http://www.motherjones.com/politics/2012/07/mass-shootings-map/ \n",
    "\n",
    "A direct link to the data may be found here:\n",
    "\n",
    "https://docs.google.com/spreadsheets/d/1XV4mZi3gYDgwx5PrLwqqHTUlHkwkV-6uy_yeJh3X46o/edit#gid=0 "
   ]
  },
  {
   "cell_type": "markdown",
   "metadata": {},
   "source": [
    "## Methods\n",
    "\n",
    "### Definitions\n",
    "\n",
    "Who qualifies as a mass shooter is a hotly debated topic. [5] What qualifies as a mass shooting also is a blurry issue. The FBI, Congressional Research Office, municipal police departments, all collect data differently, all have slightly different definitions. By some measures, in 2015 we had 355 mass shootings according to the Washington Post, and another, Mother Jones, only four in 2015 [6]. \n",
    "\n",
    "The first most commonly held definition is by the Federal Bureau of Investigation [7]: \n",
    "\n",
    "> \"public mass shooting\" as one in which four or more people selected indiscriminately, not including the perpetrator, are killed.\n",
    "    \n",
    "This definition would exclude a 1 AM gang shootout at IHOP in Chicago in which four people are killed, and a grandmother killing her entire family of four in White Center in 2010 [8]. It *would* include a man entering a movie theater and killing dozens of random people in Aurora, Colo.\n",
    "    \n",
    "All these definitions wrestle with the following __problems__ when defining a mass shooting [9]:\n",
    "\n",
    "1. How many people need to be killed or injured for the event to be called a \"mass shooting\"?\n",
    "\n",
    "2. What is the geographic distribution of a mass shooting? A music venue, an entire city? \n",
    "\n",
    "3. Are we confusing mass shooters with mass shootings? These are not neccessarily events which are perpetrated by only one person per incident. Should we focus on shooters or shootings?\n",
    "\n",
    "4. How many people have to be killed, for the incident to be called a mass shooting? \n",
    "\n",
    "5. Are the victims related to the shooters in any way? Are they relatives, friends, close co-workers, or complete strangers?\n",
    "\n",
    "6. Over what period of time is the distribution of individual killings? All in the span of several hours with no \"cooling off period\"? \n",
    "\n",
    "The curators of the data at Mother Jones take the FBI definition of a mass shooting and refine upon it a little further:\n",
    "\n",
    "1. The killings were carried out by a lone shooter, though MJ breaks their own definition and *do* include the Columbine massacre, and the Westside Middle School shootings which included two killers each.\n",
    "\n",
    "2. The shootings must have occurred in a public place. This excludes any mass shootings that occurred at a private residence, for example.\n",
    "\n",
    "3. The perpetrator(s) injuries or deaths are not included in the counts.\n",
    "\n",
    "4. A few shootings are listed as \"spree\" shootings, because they took place in more than one location over a short period of time.\n"
   ]
  },
  {
   "cell_type": "markdown",
   "metadata": {},
   "source": [
    "## Findings\n",
    "\n",
    "#### H1: Are mass shootings as defined by Mother Jones increasing?"
   ]
  },
  {
   "cell_type": "code",
   "execution_count": 86,
   "metadata": {
    "scrolled": true
   },
   "outputs": [
    {
     "name": "stdout",
     "output_type": "stream",
     "text": [
      "Coefficient:  0.148727351165\n",
      "Mean squared error: 3.00\n"
     ]
    },
    {
     "data": {
      "image/png": "[encoded data removed]",
      "text/plain": [
       "<matplotlib.figure.Figure at 0x7f78fb169978>"
      ]
     },
     "metadata": {},
     "output_type": "display_data"
    }
   ],
   "source": [
    "import pandas\n",
    "import matplotlib\n",
    "import matplotlib.pyplot as plt\n",
    "import numpy as np\n",
    "import scipy\n",
    "from scipy import stats\n",
    "from sklearn import linear_model\n",
    "from sklearn.metrics import mean_squared_error, r2_score\n",
    "from sklearn.neighbors import KernelDensity\n",
    "import statsmodels.api as sm\n",
    "%matplotlib inline\n",
    "\n",
    "# Load and prepare the data\n",
    "\n",
    "df = pandas.read_csv('mother_jones_gun_violence_database.csv')\n",
    "df = df.dropna(axis=0, how='all')\n",
    "df['Year'] = df['Year'].astype(int)\n",
    "df['Date'] = pandas.to_datetime(df['Date'])\n",
    "df['DayOfYear'] = df['Date'].dt.strftime(\"%-j\")\n",
    "df['DayOfYear'] = pandas.to_numeric(df['DayOfYear'])\n",
    "df['DateFraction'] = ((df['DayOfYear'] - 1) / 366) + df['Date'].dt.year\n",
    "\n",
    "dfcount = df[['Case']].groupby(df['Year']).count()\n",
    "dfcount.reset_index(inplace=True)\n",
    "\n",
    "# Perform linear regression\n",
    "\n",
    "X = np.array(dfcount['Year']).reshape(-1,1)\n",
    "y = np.array(dfcount['Case']).reshape(-1,1)\n",
    "regr = linear_model.LinearRegression()\n",
    "regr.fit(X, y)\n",
    "\n",
    "y_pred = regr.predict(X)\n",
    "\n",
    "# Plot the results\n",
    "\n",
    "fig, ax = plt.subplots()\n",
    "\n",
    "plt.bar(dfcount['Year'], dfcount['Case'])\n",
    "plt.ylabel('Mass Shootings')\n",
    "plt.xlabel('Calendar Year')\n",
    "\n",
    "ax.plot(X, y_pred, color='red')\n",
    "print('Coefficient: ', regr.coef_[0][0])\n",
    "print(\"Mean squared error: %.2f\"\n",
    "      % mean_squared_error(y, y_pred))"
   ]
  },
  {
   "cell_type": "code",
   "execution_count": 87,
   "metadata": {
    "scrolled": true
   },
   "outputs": [
    {
     "name": "stdout",
     "output_type": "stream",
     "text": [
      "                            OLS Regression Results                            \n",
      "==============================================================================\n",
      "Dep. Variable:                      y   R-squared:                       0.430\n",
      "Model:                            OLS   Adj. R-squared:                  0.411\n",
      "Method:                 Least Squares   F-statistic:                     23.37\n",
      "Date:                Sun, 10 Dec 2017   Prob (F-statistic):           3.45e-05\n",
      "Time:                        19:59:59   Log-Likelihood:                -64.941\n",
      "No. Observations:                  33   AIC:                             133.9\n",
      "Df Residuals:                      31   BIC:                             136.9\n",
      "Df Model:                           1                                         \n",
      "Covariance Type:            nonrobust                                         \n",
      "==============================================================================\n",
      "                 coef    std err          t      P>|t|      [0.025      0.975]\n",
      "------------------------------------------------------------------------------\n",
      "const       -294.6300     61.544     -4.787      0.000    -420.151    -169.109\n",
      "x1             0.1487      0.031      4.834      0.000       0.086       0.211\n",
      "==============================================================================\n",
      "Omnibus:                        8.383   Durbin-Watson:                   1.172\n",
      "Prob(Omnibus):                  0.015   Jarque-Bera (JB):                7.280\n",
      "Skew:                           0.843   Prob(JB):                       0.0262\n",
      "Kurtosis:                       4.565   Cond. No.                     3.96e+05\n",
      "==============================================================================\n",
      "\n",
      "Warnings:\n",
      "[1] Standard Errors assume that the covariance matrix of the errors is correctly specified.\n",
      "[2] The condition number is large, 3.96e+05. This might indicate that there are\n",
      "strong multicollinearity or other numerical problems.\n"
     ]
    }
   ],
   "source": [
    "X = sm.add_constant(X) # must do this or the results will not match scikit-learn's linearregression\n",
    "model = sm.OLS(y, X)\n",
    "results = model.fit()\n",
    "print(results.summary())"
   ]
  },
  {
   "cell_type": "markdown",
   "metadata": {},
   "source": [
    "#### The linear model fit is very significant, showing that mass shootings are increasing year-over-year, since Mother Jones started counting in 1982.\n",
    "\n",
    "To double-check my particular grouping of mass shootings into calendar years, I decided to generate several different kinds of kernel density estimates, to guard myself against bin shift issues, which could potentially give a much different shape to the data."
   ]
  },
  {
   "cell_type": "code",
   "execution_count": 88,
   "metadata": {
    "scrolled": false
   },
   "outputs": [
    {
     "data": {
      "image/png": "[encoded data removed]",
      "text/plain": [
       "<matplotlib.figure.Figure at 0x7f78fa7f0400>"
      ]
     },
     "metadata": {},
     "output_type": "display_data"
    }
   ],
   "source": [
    "fig, ax = plt.subplots()\n",
    "\n",
    "X = np.array(df['DateFraction'])\n",
    "X = X.reshape(-1,1)\n",
    "\n",
    "for kernel in ['gaussian', 'tophat', 'epanechnikov']:\n",
    "    kde = KernelDensity(kernel=kernel, bandwidth=0.5).fit(X)\n",
    "    log_dens = kde.score_samples(X)\n",
    "    ax.plot(X, np.exp(log_dens), '-',\n",
    "            label=\"kernel = '{0}'\".format(kernel))"
   ]
  },
  {
   "cell_type": "markdown",
   "metadata": {},
   "source": [
    "The KDEs show a similar shape to the binned by calendar year data.\n",
    "\n",
    "#### H2: Are mass shootings becoming deadlier?"
   ]
  },
  {
   "cell_type": "code",
   "execution_count": 89,
   "metadata": {},
   "outputs": [
    {
     "name": "stdout",
     "output_type": "stream",
     "text": [
      "Coefficient:  -0.0151003031517\n",
      "Mean squared error: 8.09\n"
     ]
    },
    {
     "data": {
      "image/png": "[encoded data removed]",
      "text/plain": [
       "<matplotlib.figure.Figure at 0x7f78fd6a7438>"
      ]
     },
     "metadata": {},
     "output_type": "display_data"
    }
   ],
   "source": [
    "dfdeadly = (df.groupby(df['Year'])\n",
    "            .agg({'Case':'count', 'Fatalities':'sum'})\n",
    "            .reset_index()\n",
    "           )\n",
    "dfdeadly['Rate'] = dfdeadly['Fatalities']/dfdeadly['Case']\n",
    "\n",
    "X = np.array(dfdeadly['Year']).reshape(-1,1)\n",
    "y = np.array(dfdeadly['Rate']).reshape(-1,1)\n",
    "regr = linear_model.LinearRegression()\n",
    "regr.fit(X, y)\n",
    "y_pred = regr.predict(X)\n",
    "\n",
    "fig, ax = plt.subplots()\n",
    "\n",
    "plt.bar(dfdeadly['Year'], dfdeadly['Rate'])\n",
    "plt.xlabel('Year')\n",
    "plt.ylabel('Death Rate Per Mass Shooting')\n",
    "ax.plot(X, y_pred, color='red')\n",
    "\n",
    "print('Coefficient: ', regr.coef_[0][0])\n",
    "print(\"Mean squared error: %.2f\"\n",
    "      % mean_squared_error(y, y_pred))"
   ]
  },
  {
   "cell_type": "code",
   "execution_count": 90,
   "metadata": {},
   "outputs": [
    {
     "name": "stdout",
     "output_type": "stream",
     "text": [
      "                            OLS Regression Results                            \n",
      "==============================================================================\n",
      "Dep. Variable:                      y   R-squared:                       0.003\n",
      "Model:                            OLS   Adj. R-squared:                 -0.029\n",
      "Method:                 Least Squares   F-statistic:                   0.08930\n",
      "Date:                Sun, 10 Dec 2017   Prob (F-statistic):              0.767\n",
      "Time:                        20:00:06   Log-Likelihood:                -81.314\n",
      "No. Observations:                  33   AIC:                             166.6\n",
      "Df Residuals:                      31   BIC:                             169.6\n",
      "Df Model:                           1                                         \n",
      "Covariance Type:            nonrobust                                         \n",
      "==============================================================================\n",
      "                 coef    std err          t      P>|t|      [0.025      0.975]\n",
      "------------------------------------------------------------------------------\n",
      "const         38.0321    101.080      0.376      0.709    -168.122     244.186\n",
      "x1            -0.0151      0.051     -0.299      0.767      -0.118       0.088\n",
      "==============================================================================\n",
      "Omnibus:                        4.568   Durbin-Watson:                   1.546\n",
      "Prob(Omnibus):                  0.102   Jarque-Bera (JB):                4.097\n",
      "Skew:                           0.855   Prob(JB):                        0.129\n",
      "Kurtosis:                       2.757   Cond. No.                     3.96e+05\n",
      "==============================================================================\n",
      "\n",
      "Warnings:\n",
      "[1] Standard Errors assume that the covariance matrix of the errors is correctly specified.\n",
      "[2] The condition number is large, 3.96e+05. This might indicate that there are\n",
      "strong multicollinearity or other numerical problems.\n"
     ]
    }
   ],
   "source": [
    "X = sm.add_constant(X)\n",
    "model = sm.OLS(y, X)\n",
    "results = model.fit()\n",
    "print(results.summary())"
   ]
  },
  {
   "cell_type": "markdown",
   "metadata": {},
   "source": [
    "#### The linear model fit is *not significant*, therefore we cannot say that mass shootings are becoming deadlier year-over-year.\n",
    "\n",
    "## Discussion\n",
    "\n",
    "There are some limitations in studying mass shootings. By the Mother Jones definition, there are very few of them to use in our analysis. If we were however to expand our definition to include those who were also injured by mass shooters, then we may have gotten different results. \n",
    "\n",
    "Indeed, the definition being used here is so narrow, it excludes shootings where the shooter knew the victims. Does this fact change the fact that several people, nevertheless, are dead? I do not believe it does. The West Seattle grandmother killing her whole family would have qualified, and traditionally those who study mass shootings typically do not look for these events for their analysis. Are there different motivations behind those who kill people they know, and those that don't?\n",
    "\n",
    "Some may conclude, that focusing so narrowly on mass shootings will lead us to the wrong conclusions about gun violence as a whole in the United States. However, I do believe it is appropriate to study them in isolation. I believe not all gun violence has the same motivations at all. The problem of course, as I have discovered is how to classify the types of shootings, in order to reach valid conclusions.\n",
    "\n",
    "Additionally, I believe because a single mass shooter can have an incredible impact, it is valid reason enough.\n"
   ]
  },
  {
   "cell_type": "markdown",
   "metadata": {},
   "source": [
    "## Conclusion\n",
    "\n",
    "While we were *not* able to show that mass shootings, by the Mother Jones definition, are becoming deadlier, they indeed are happenning more often, which is concerning. After the Las Vegas shooting, journalists were already wondering if the next copycat mass shooters were taking notice [10]. The Las Vegas shooting, is an outlier in our data, but who is to say future shootings may take a page from Las Vegas. Only time will tell. "
   ]
  },
  {
   "cell_type": "markdown",
   "metadata": {},
   "source": [
    "## References\n",
    "\n",
    "1. Mass shooting. (2017, November 07). Retrieved November 09, 2017, from https://en.wikipedia.org/wiki/Mass_shooting \n",
    "\n",
    "2. G. (2016, June 13). Assault Weapons Ban: A Dumb Idea Pushed By Dumb People. Retrieved November 09, 2017, from http://thefederalist.com/2016/06/13/the-assault-weapons-ban-is-a-stupid-idea-pushed-by-stupid-people/\n",
    "\n",
    "3. 50 years of U.S. mass shootings: The victims, sites, killers and weapons. (n.d.). Retrieved November 09, 2017, from https://www.washingtonpost.com/graphics/national/mass-shootings-in-america/ \n",
    "\n",
    "4. Rivara, Fred, Dr., Seattle Children's Hospital (2015, April 15th) In person interview.\n",
    "\n",
    "5. Crimes - 2001 to present. (2017, November 07). Retrieved November 09, 2017, from https://catalog.data.gov/dataset/crimes-2001-to-present-398a4\n",
    "\n",
    "6. Follman, M. (2015, December 03). Opinion | How Many Mass Shootings Are There, Really? Retrieved November 09, 2017, from https://www.nytimes.com/2015/12/04/opinion/how-many-mass-shootings-are-there-really.html \n",
    "\n",
    "7. Follman, M., Aronsen, G., & Pan, D. (2017, November 05). US mass shootings, 1982-2017: Data from Mother Jones' investigation. Retrieved November 09, 2017, from http://www.motherjones.com/politics/2012/12/mass-shootings-mother-jones-full-data\n",
    "\n",
    "8. STAFF, C. M. (n.d.). Family: Grandmother in shooting spree battled schizophrenia. Retrieved November 09, 2017, from http://www.seattlepi.com/local/article/Family-Grandmother-in-shooting-spree-battled-884335.php \n",
    "\n",
    "9. FBI Mass Shooting Report Can Be Misleading. (n.d.). Retrieved November 09, 2017, from http://time.com/3432950/fbi-mass-shooting-report-misleading/ \n",
    "\n",
    "10. Wemple, E. (2017, October 03). Opinion | Is Las Vegas coverage prepping the next ‘copycat’ killer? Retrieved December 10, 2017, from https://www.washingtonpost.com/blogs/erik-wemple/wp/2017/10/03/is-las-vegas-coverage-prepping-the-next-copycat-killer/?utm_term=.ebda16285e45\n",
    "\n"
   ]
  },
  {
   "cell_type": "code",
   "execution_count": null,
   "metadata": {},
   "outputs": [],
   "source": [
    ""
   ]
  }
 ],
 "metadata": {
  "kernelspec": {
   "display_name": "Python 3",
   "language": "python",
   "name": "python3"
  },
  "language_info": {
   "codemirror_mode": {
    "name": "ipython",
    "version": 3.0
   },
   "file_extension": ".py",
   "mimetype": "text/x-python",
   "name": "python",
   "nbconvert_exporter": "python",
   "pygments_lexer": "ipython3",
   "version": "3.6.2"
  }
 },
 "nbformat": 4,
 "nbformat_minor": 0
}