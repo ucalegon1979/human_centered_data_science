{
 "cells": [
  {
   "cell_type": "markdown",
   "metadata": {},
   "source": [
    "# Mass Shootings in the United States:\n",
    "## A study to overcome long held biases about gun violence.\n",
    "\n",
    "#### October 9th, 2017\n",
    "\n",
    "#### Andrew Smith (ucalegon@uw.edu)\n",
    "\n",
    "\n",
    "### Introduction\n",
    "\n",
    "Mass shootings in the United States since 1999 have seemed to the average person to become alarmingly frequent. There are those among the populace who say people will always find a way to kill, ignoring things like: \n",
    "\n",
    "1) How easy is it to kill many people with weapons other than guns? \n",
    "\n",
    "2) How likely a person would commit murder if they did not have a gun?\n",
    "\n",
    "3) How easy it is to obtain a gun in the United States, compared to other things which are far less deadly, like a driver's license.\n",
    "\n",
    "There is a deep divide in the United States about if the existence of so many guns has anything to do with the frequency of mass shootings. Some say when we focus on mass shootings, we forget about all the murders that happen with guns, the accidents, and suicides, and that we are missing the point.  \n",
    "\n",
    "### Purpose\n",
    "\n",
    "My purpose is to uncover any truths surrounding the gun \"issue\" in the United States as it relates to mass shootings only. Is it really, as many right-wing politicians say, only a mental-health issue? Some say it isn't a white male problem, and they point to the DC snipers.\n",
    "\n",
    "### Hypotheses\n",
    "\n",
    "H0: The number of shooters who are white males is inversely correlated to the share of the population over time.\n",
    "\n",
    "    I would like to determine if perhaps there is social pressure on white males, with other races taking a larger share of the \n",
    "\n",
    "H1: White males are more likely to murder more people during mass shootings than other races. \n",
    "\n",
    "H2: Mass shooters more likely to suffer from mental illness.\n",
    "\n",
    "H3. White, male, mass shooters are more likely to suffer from mental illness.\n",
    "\n",
    "H4: Mass murderers from all races are equally likely to use gun violence.\n",
    "\n",
    "### Data\n",
    "\n",
    "Mother Jones\n",
    "US Mass Shootings Dataset on Kaggle\n",
    "\n",
    "### Methods\n",
    "\n",
    "I will be using Python to clean, analyze and transform the data from Mother Jones and Kaggle. \n",
    "\n"
   ]
  },
  {
   "cell_type": "code",
   "execution_count": null,
   "metadata": {},
   "outputs": [],
   "source": []
  }
 ],
 "metadata": {
  "kernelspec": {
   "display_name": "Python 3",
   "language": "python",
   "name": "python3"
  },
  "language_info": {
   "codemirror_mode": {
    "name": "ipython",
    "version": 3
   },
   "file_extension": ".py",
   "mimetype": "text/x-python",
   "name": "python",
   "nbconvert_exporter": "python",
   "pygments_lexer": "ipython3",
   "version": "3.6.2"
  }
 },
 "nbformat": 4,
 "nbformat_minor": 2
}
