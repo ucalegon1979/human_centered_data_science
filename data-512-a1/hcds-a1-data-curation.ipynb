{
 "cells": [
  {
   "cell_type": "markdown",
   "metadata": {
    "collapsed": true
   },
   "source": [
    "# "
   ]
  },
  {
   "cell_type": "markdown",
   "metadata": {
    "collapsed": true
   },
   "source": [
    ""
   ]
  },
  {
   "cell_type": "markdown",
   "metadata": {
    "collapsed": true
   },
   "source": [
    "# DATA 512\n",
    "\n",
    "## Assignment 1: Data Curation"
   ]
  },
  {
   "cell_type": "code",
   "execution_count": null,
   "metadata": {
    "collapsed": true
   },
   "outputs": [],
   "source": [
    "import requests\n",
    "import pandas\n",
    "import json\n",
    "\n",
    "# Set up to get the newer Page Views data from Wikimedia\n",
    "headers={'User-Agent' : 'https://github.com/ucalegon1979', 'From' : 'ucalegon@uw.edu'}\n",
    "endpoint = 'https://wikimedia.org/api/rest_v1/metrics/{service}/aggregate/{project}/{access}/{agent}/{granularity}/{start}/{end}'\n",
    "start = '2015070100'\n",
    "end = '2017100100'\n",
    "\n",
    "dfpageviews = pandas.DataFrame()\n",
    "\n",
    "# Loop over the list of access types to create separate files for each\n",
    "for a in ['desktop', 'mobile-app', 'mobile-web']:\n",
    "    \n",
    "    params = {  'service' : 'pageviews',\n",
    "                'project' : 'en.wikipedia.org',\n",
    "                'access' : a,\n",
    "                'agent' : 'user',\n",
    "                'granularity' : 'daily',\n",
    "                'start' : start,\n",
    "                'startmonth' : '{:.6}'.format(start),\n",
    "                'end' : end,\n",
    "                'endmonth' : '{:.6}'.format(end)\n",
    "                }\n",
    "    \n",
    "    # Create the api call and get the page views data\n",
    "    api_call = requests.get(endpoint.format(**params))\n",
    "    data = api_call.json()\n",
    "    \n",
    "    # Write the json data to a file\n",
    "    filename = '{service}_{access}_{startmonth}-{endmonth}.json'.format(**params)\n",
    "    with open(filename, 'w') as fp:\n",
    "        json.dump(data, fp)\n",
    "    \n",
    "    # Present the page views data as a dataframe\n",
    "    df = pandas.DataFrame.from_dict(data['items'])\n",
    "    df[['timestamp','views']] = df[['timestamp','views']].apply(pandas.to_numeric)\n",
    "    \n",
    "    # union these with the other access types\n",
    "    dfpageviews = pandas.concat([dfpageviews, df])\n",
    "    \n",
    "#end for loop"
   ]
  },
  {
   "cell_type": "markdown",
   "metadata": {},
   "source": [
    "\n",
    "Convert the JSON files into Pandas dataframes and join them together on date"
   ]
  },
  {
   "cell_type": "code",
   "execution_count": 11,
   "metadata": {
    "collapsed": true
   },
   "outputs": [],
   "source": [
    "# Set up to get the newer Page Views data from Wikimedia\n",
    "endpoint = 'https://wikimedia.org/api/rest_v1/metrics/legacy/pagecounts/aggregate/{project}/{access-site}/{granularity}/{start}/{end}'\n",
    "\n",
    "params = {'project' : 'en.wikipedia.org',\n",
    "            'access-site' : 'all-sites',\n",
    "            'granularity' : 'daily',\n",
    "            'start' : '2008010100',\n",
    "            'end' : '2016080100'\n",
    "            }\n",
    "\n",
    "# Create the api call and get the page views data\n",
    "api_call = requests.get(endpoint.format(**params))\n",
    "data = api_call.json()\n",
    "\n",
    "\n",
    "# Write the json data to a file\n",
    "with open('pagecounts_all-access_200801-201607.json', 'w') as fp:\n",
    "    json.dump(data, fp)\n",
    "    \n",
    "# Present the page views data as a dataframe\n",
    "dfpagecount = pandas.DataFrame.from_dict(data['items'])"
   ]
  },
  {
   "cell_type": "markdown",
   "metadata": {
    "collapsed": true
   },
   "source": [
    "### Prepare the Page View Data\n",
    "\n",
    "1. Create columns for year and month from the timestamp field. \n",
    "2. Combine the access mobile-app and mobile-web columns into one by adding them together.\n",
    "3. Aggregate the dataset up the to the year and month level."
   ]
  },
  {
   "cell_type": "code",
   "execution_count": null,
   "metadata": {
    "collapsed": true
   },
   "outputs": [],
   "source": [
    "import numpy\n",
    "#Transform the data \n",
    "\n",
    "# Create separate colums for the different access types\n",
    "dfpageviews = dfpageviews.pivot(index='timestamp', columns='access', values='views')\n",
    "\n",
    "# Split out the year and month from the timestamp\n",
    "dfpageviews.reset_index(inplace=True)\n",
    "dfpageviews['year'] = dfpageviews['timestamp'].apply(lambda s: str(s)[:4])\n",
    "dfpageviews['month'] = dfpageviews['timestamp'].apply(lambda s: str(s)[4:6])\n",
    "\n",
    "# Combine the mobile counts\n",
    "dfpageviews['mobile'] = dfpageviews['mobile-app'] + dfpageviews['mobile-web']\n",
    "\n",
    "# Drop unneccessary columns\n",
    "columns_to_drop = ['timestamp', 'mobile-app', 'mobile-web']\n",
    "dfpageviews.drop(columns_to_drop, axis=1, inplace=True)\n",
    "\n",
    "# Aggregate the dataframe up to year and month\n",
    "df = dfpageviews.groupby(by=['year', 'month'])[['mobile','desktop']].sum()\n",
    "df.reset_index(inplace=True)\n",
    "df['all'] = df['mobile'] + df['desktop']\n",
    "df.columns = ['year','month','pageview_mobile_views','pageview_desktop_views','pageview_all_views']"
   ]
  },
  {
   "cell_type": "markdown",
   "metadata": {
    "collapsed": false
   },
   "source": [
    "### Transform the Page Count Data\n",
    "\n",
    "Following the same guidelines as the Page View data, prepare the Page Count data"
   ]
  },
  {
   "cell_type": "code",
   "execution_count": null,
   "metadata": {
    "collapsed": false
   },
   "outputs": [],
   "source": [
    "# Transform and merge the older, legacy pagecount data, joining on year and month\n",
    "dfpagecount['year'] = dfpagecount['timestamp'].apply(lambda s: str(s)[:4])\n",
    "dfpagecount['month'] = dfpagecount['timestamp'].apply(lambda s: str(s)[4:6])\n",
    "df2 = dfpagecount.groupby(by=['year', 'month'])['count'].sum()\n",
    "df2 = df2.reset_index()\n",
    "df2.columns = ['year','month','pagecount_all_views']"
   ]
  },
  {
   "cell_type": "markdown",
   "metadata": {
    "collapsed": false
   },
   "source": [
    "### Merge Datasets\n",
    "\n",
    "Now we have two datasets both aggregated on year and month. We will perform a full outer join on them to combine them into one dataset, keeping all rows. \n",
    "\n",
    "We will also replace NaNs with zeroes and sort the data."
   ]
  },
  {
   "cell_type": "code",
   "execution_count": null,
   "metadata": {
    "collapsed": false
   },
   "outputs": [],
   "source": [
    "dfall = pandas.merge(df, df2, on=['year','month'], how='outer')\n",
    "dfall.sort_values(by=['year','month'], inplace=True)\n",
    "dfall.fillna(value=0)\n",
    "dfall.to_csv('en-wikipedia_traffic_200801-201709.csv')"
   ]
  },
  {
   "cell_type": "markdown",
   "metadata": {
    "collapsed": false
   },
   "source": [
    "### Plot the Results\n",
    "\n",
    "Using matplotlib, we now show the data with each access type available as a different colored line on a graph. You will be able to see how the data overlaps for 13 months, and the different timeframes for each kind of page count/view method."
   ]
  },
  {
   "cell_type": "code",
   "execution_count": null,
   "metadata": {
    "collapsed": false
   },
   "outputs": [],
   "source": [
    "import matplotlib\n",
    "%matplotlib inline\n",
    "\n",
    "ax = dfall.plot.line(x=['year','month'],\n",
    "                     y=['pageview_mobile_views','pageview_desktop_views','pageview_all_views','pagecount_all_views'],\n",
    "                     title='Page Views on Engligh Wikipedia (x 1,000,000,000)')\n",
    "ax.set(xlabel=\"Date (Year / Month)\", ylabel=\"Page Views\")"
   ]
  },
  {
   "cell_type": "code",
   "execution_count": null,
   "metadata": {
    "collapsed": true
   },
   "outputs": [],
   "source": [
    ""
   ]
  }
 ],
 "metadata": {
  "kernelspec": {
   "display_name": "Python 3",
   "language": "python",
   "name": "python3"
  },
  "language_info": {
   "codemirror_mode": {
    "name": "ipython",
    "version": 3.0
   },
   "file_extension": ".py",
   "mimetype": "text/x-python",
   "name": "python",
   "nbconvert_exporter": "python",
   "pygments_lexer": "ipython3",
   "version": "3.6.0"
  }
 },
 "nbformat": 4,
 "nbformat_minor": 0
}